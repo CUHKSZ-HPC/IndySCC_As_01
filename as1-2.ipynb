{
 "cells": [
  {
   "cell_type": "code",
   "execution_count": 163,
   "id": "8cf2f2b4-dc7b-4249-8f4c-876764403535",
   "metadata": {},
   "outputs": [],
   "source": [
    "import chi"
   ]
  },
  {
   "cell_type": "code",
   "execution_count": 164,
   "id": "c4f045f6-f2ab-44ac-a2d2-aa5ea65e3ff0",
   "metadata": {},
   "outputs": [
    {
     "name": "stdout",
     "output_type": "stream",
     "text": [
      "Now using CHI@TACC:\n",
      "URL: https://chi.tacc.chameleoncloud.org\n",
      "Location: Austin, Texas, USA\n",
      "Support contact: help@chameleoncloud.org\n"
     ]
    }
   ],
   "source": [
    "chi.set('project_name', 'CHI-221015')\n",
    "chi.use_site('CHI@TACC')"
   ]
  },
  {
   "cell_type": "code",
   "execution_count": 183,
   "id": "d078a8b8-805d-4fb7-a917-c9e724f1dc30",
   "metadata": {},
   "outputs": [
    {
     "name": "stdout",
     "output_type": "stream",
     "text": [
      "see https://chi.rcac.purdue.edu/project/leases/ for current lease status\n"
     ]
    }
   ],
   "source": [
    "import chi.lease\n",
    "\n",
    "# Reserve 1 compute nodes\n",
    "compute_node_reservation_list_1 = []\n",
    "chi.lease.add_node_reservation(compute_node_reservation_list_1, resource_properties = ['==', '$node_name', 'c11-23'], count=1)\n",
    "compute_lease_1 = chi.lease.create_lease(\"my-indyscc-compute-node-lease_2_1\", reservations=compute_node_reservation_list_1)\n",
    "\n",
    "# Reserve 1 compute nodes\n",
    "compute_node_reservation_list_2 = []\n",
    "chi.lease.add_node_reservation(compute_node_reservation_list_2, resource_properties = ['==', '$node_name', 'c11-24'], count=1)\n",
    "compute_lease_2 = chi.lease.create_lease(\"my-indyscc-compute-node-lease_2_2\", reservations=compute_node_reservation_list_2)\n",
    "\n",
    "print(\"see https://chi.rcac.purdue.edu/project/leases/ for current lease status\")\n",
    "# wait for lease to become active\n",
    "compute_lease_1 = chi.lease.wait_for_active(compute_lease_1['id'])  # Ensure lease has started\n",
    "compute_lease_2 = chi.lease.wait_for_active(compute_lease_2['id'])  # Ensure lease has started"
   ]
  },
  {
   "cell_type": "code",
   "execution_count": 184,
   "id": "f4fc37fa-ffea-4ec8-8db0-7edd724e0205",
   "metadata": {},
   "outputs": [],
   "source": [
    "import chi.server\n",
    "\n",
    "# Launch your compute node instances\n",
    "compute_node_1 = chi.server.create_server(\n",
    "    \"indyscc-compute-node_2_1\",                                 \n",
    "    reservation_id=chi.lease.get_node_reservation(compute_lease_1[\"id\"]),\n",
    "    image_name='indyscc-head-node_f77c87af-89b0-4938-be78-7156d3297ae2',\n",
    "    network_name=\"polo_test-isolated_net-vxsdpigdsmu4\",\n",
    "    count=1)\n",
    "\n",
    "# Launch your compute node instances\n",
    "compute_node_2 = chi.server.create_server(\n",
    "    \"indyscc-compute-node_2_2\",                                 \n",
    "    reservation_id=chi.lease.get_node_reservation(compute_lease_2[\"id\"]),\n",
    "    image_name='indyscc-head-node_f77c87af-89b0-4938-be78-7156d3297ae2',\n",
    "    network_name=\"polo_test-isolated_net-vxsdpigdsmu4\",\n",
    "    count=1)"
   ]
  },
  {
   "cell_type": "code",
   "execution_count": 186,
   "id": "01395e9b-2499-4f02-9e14-5ea1994cf230",
   "metadata": {},
   "outputs": [
    {
     "name": "stdout",
     "output_type": "stream",
     "text": [
      "Waiting for instances to become active. Check out the current status at https://chi.rcac.purdue.edu/project/instances/\n"
     ]
    }
   ],
   "source": [
    "# wait for nodes to become active. This can take 10-20 minutes, as they need to reboot twice.\n",
    "# you can run this again if it times out.\n",
    "print(f\"Waiting for instances to become active. Check out the current status at https://chi.rcac.purdue.edu/project/instances/\")\n",
    "\n",
    "compute_node_start_1 = chi.server.wait_for_active(compute_node_1.id)\n",
    "compute_node_start_2 = chi.server.wait_for_active(compute_node_2.id)"
   ]
  },
  {
   "cell_type": "code",
   "execution_count": 189,
   "id": "9e8e89cf-1ce2-43a0-8805-02fcdef53fa2",
   "metadata": {},
   "outputs": [],
   "source": [
    "from chi.ssh import Remote\n",
    "# Assign a public floating IP\n",
    "ip_1 = chi.server.associate_floating_ip(compute_node_1.id)\n",
    "ip_2 = chi.server.associate_floating_ip(compute_node_2.id)"
   ]
  },
  {
   "cell_type": "code",
   "execution_count": 190,
   "id": "e8384d78-4109-4213-9265-fc563d8d4e45",
   "metadata": {},
   "outputs": [],
   "source": [
    "# Create a remote connection\n",
    "c1_remote = Remote(ip_1)\n",
    "c2_remote = Remote(ip_2)"
   ]
  },
  {
   "cell_type": "code",
   "execution_count": 191,
   "id": "caeec001-a559-4779-90a0-61cfc6f8cda0",
   "metadata": {},
   "outputs": [
    {
     "name": "stderr",
     "output_type": "stream",
     "text": [
      "/opt/conda/lib/python3.9/site-packages/paramiko/client.py:835: UserWarning: Unknown ssh-ed25519 host key for 129.114.108.200: b'c81e39f03f4381ec80fdd109c3974d23'\n",
      "  warnings.warn(\n"
     ]
    },
    {
     "name": "stdout",
     "output_type": "stream",
     "text": [
      "Current CPU usage is 0.0898412%\n",
      "Current CPU usage is 0.0898454%\n"
     ]
    }
   ],
   "source": [
    "# Run some commands on your remote server\n",
    "cpu_usage = c1_remote.run(\"grep 'cpu ' /proc/stat | awk '{usage=($2+$4)*100/($2+$4+$5)} END {print usage}'\", hide=True)\n",
    "\n",
    "print('Current CPU usage is {}%'.format(float(cpu_usage.stdout)))\n",
    "\n",
    "# Run some commands on your remote server\n",
    "cpu_usage = c1_remote.run(\"grep 'cpu ' /proc/stat | awk '{usage=($2+$4)*100/($2+$4+$5)} END {print usage}'\", hide=True)\n",
    "\n",
    "print('Current CPU usage is {}%'.format(float(cpu_usage.stdout)))"
   ]
  },
  {
   "cell_type": "code",
   "execution_count": 192,
   "id": "40dbadc5-4716-4748-900f-ff60c90c8112",
   "metadata": {},
   "outputs": [
    {
     "name": "stdout",
     "output_type": "stream",
     "text": [
      "129.114.108.200 129.114.109.80\n"
     ]
    }
   ],
   "source": [
    "print(ip_1, ip_2)"
   ]
  },
  {
   "cell_type": "code",
   "execution_count": 219,
   "id": "ebaa9c1b-1d1c-496b-a6c3-a5ee58699757",
   "metadata": {},
   "outputs": [
    {
     "data": {
      "text/plain": [
       "<Result cmd='nohup iperf3 -s -p 9898 >> /tmp/listen.txt 2>&1 &' exited=0>"
      ]
     },
     "execution_count": 219,
     "metadata": {},
     "output_type": "execute_result"
    }
   ],
   "source": [
    "c1_remote.run(\"nohup iperf3 -s -p 9898 >> /tmp/listen.txt 2>&1 &\")"
   ]
  },
  {
   "cell_type": "code",
   "execution_count": 218,
   "id": "d67c1886-f58a-4f3b-b6e7-53cb3575733a",
   "metadata": {},
   "outputs": [
    {
     "name": "stderr",
     "output_type": "stream",
     "text": [
      "iperf3: no process found\n"
     ]
    },
    {
     "ename": "UnexpectedExit",
     "evalue": "Encountered a bad command exit code!\n\nCommand: 'killall iperf3'\n\nExit code: 1\n\nStdout: already printed\n\nStderr: already printed\n\n",
     "output_type": "error",
     "traceback": [
      "\u001b[0;31m---------------------------------------------------------------------------\u001b[0m",
      "\u001b[0;31mUnexpectedExit\u001b[0m                            Traceback (most recent call last)",
      "\u001b[0;32m/tmp/ipykernel_454/2910153323.py\u001b[0m in \u001b[0;36m<module>\u001b[0;34m\u001b[0m\n\u001b[0;32m----> 1\u001b[0;31m \u001b[0mc1_remote\u001b[0m\u001b[0;34m.\u001b[0m\u001b[0mrun\u001b[0m\u001b[0;34m(\u001b[0m\u001b[0;34m\"killall iperf3\"\u001b[0m\u001b[0;34m)\u001b[0m\u001b[0;34m\u001b[0m\u001b[0;34m\u001b[0m\u001b[0m\n\u001b[0m",
      "\u001b[0;32m<decorator-gen-3>\u001b[0m in \u001b[0;36mrun\u001b[0;34m(self, command, **kwargs)\u001b[0m\n",
      "\u001b[0;32m/opt/conda/lib/python3.9/site-packages/fabric/connection.py\u001b[0m in \u001b[0;36mopens\u001b[0;34m(method, self, *args, **kwargs)\u001b[0m\n\u001b[1;32m     28\u001b[0m \u001b[0;32mdef\u001b[0m \u001b[0mopens\u001b[0m\u001b[0;34m(\u001b[0m\u001b[0mmethod\u001b[0m\u001b[0;34m,\u001b[0m \u001b[0mself\u001b[0m\u001b[0;34m,\u001b[0m \u001b[0;34m*\u001b[0m\u001b[0margs\u001b[0m\u001b[0;34m,\u001b[0m \u001b[0;34m**\u001b[0m\u001b[0mkwargs\u001b[0m\u001b[0;34m)\u001b[0m\u001b[0;34m:\u001b[0m\u001b[0;34m\u001b[0m\u001b[0;34m\u001b[0m\u001b[0m\n\u001b[1;32m     29\u001b[0m     \u001b[0mself\u001b[0m\u001b[0;34m.\u001b[0m\u001b[0mopen\u001b[0m\u001b[0;34m(\u001b[0m\u001b[0;34m)\u001b[0m\u001b[0;34m\u001b[0m\u001b[0;34m\u001b[0m\u001b[0m\n\u001b[0;32m---> 30\u001b[0;31m     \u001b[0;32mreturn\u001b[0m \u001b[0mmethod\u001b[0m\u001b[0;34m(\u001b[0m\u001b[0mself\u001b[0m\u001b[0;34m,\u001b[0m \u001b[0;34m*\u001b[0m\u001b[0margs\u001b[0m\u001b[0;34m,\u001b[0m \u001b[0;34m**\u001b[0m\u001b[0mkwargs\u001b[0m\u001b[0;34m)\u001b[0m\u001b[0;34m\u001b[0m\u001b[0;34m\u001b[0m\u001b[0m\n\u001b[0m\u001b[1;32m     31\u001b[0m \u001b[0;34m\u001b[0m\u001b[0m\n\u001b[1;32m     32\u001b[0m \u001b[0;34m\u001b[0m\u001b[0m\n",
      "\u001b[0;32m/opt/conda/lib/python3.9/site-packages/fabric/connection.py\u001b[0m in \u001b[0;36mrun\u001b[0;34m(self, command, **kwargs)\u001b[0m\n\u001b[1;32m    723\u001b[0m         \u001b[0;34m.\u001b[0m\u001b[0;34m.\u001b[0m \u001b[0mversionadded\u001b[0m\u001b[0;34m:\u001b[0m\u001b[0;34m:\u001b[0m \u001b[0;36m2.0\u001b[0m\u001b[0;34m\u001b[0m\u001b[0;34m\u001b[0m\u001b[0m\n\u001b[1;32m    724\u001b[0m         \"\"\"\n\u001b[0;32m--> 725\u001b[0;31m         \u001b[0;32mreturn\u001b[0m \u001b[0mself\u001b[0m\u001b[0;34m.\u001b[0m\u001b[0m_run\u001b[0m\u001b[0;34m(\u001b[0m\u001b[0mself\u001b[0m\u001b[0;34m.\u001b[0m\u001b[0m_remote_runner\u001b[0m\u001b[0;34m(\u001b[0m\u001b[0;34m)\u001b[0m\u001b[0;34m,\u001b[0m \u001b[0mcommand\u001b[0m\u001b[0;34m,\u001b[0m \u001b[0;34m**\u001b[0m\u001b[0mkwargs\u001b[0m\u001b[0;34m)\u001b[0m\u001b[0;34m\u001b[0m\u001b[0;34m\u001b[0m\u001b[0m\n\u001b[0m\u001b[1;32m    726\u001b[0m \u001b[0;34m\u001b[0m\u001b[0m\n\u001b[1;32m    727\u001b[0m     \u001b[0;34m@\u001b[0m\u001b[0mopens\u001b[0m\u001b[0;34m\u001b[0m\u001b[0;34m\u001b[0m\u001b[0m\n",
      "\u001b[0;32m/opt/conda/lib/python3.9/site-packages/invoke/context.py\u001b[0m in \u001b[0;36m_run\u001b[0;34m(self, runner, command, **kwargs)\u001b[0m\n\u001b[1;32m    100\u001b[0m     \u001b[0;32mdef\u001b[0m \u001b[0m_run\u001b[0m\u001b[0;34m(\u001b[0m\u001b[0mself\u001b[0m\u001b[0;34m,\u001b[0m \u001b[0mrunner\u001b[0m\u001b[0;34m,\u001b[0m \u001b[0mcommand\u001b[0m\u001b[0;34m,\u001b[0m \u001b[0;34m**\u001b[0m\u001b[0mkwargs\u001b[0m\u001b[0;34m)\u001b[0m\u001b[0;34m:\u001b[0m\u001b[0;34m\u001b[0m\u001b[0;34m\u001b[0m\u001b[0m\n\u001b[1;32m    101\u001b[0m         \u001b[0mcommand\u001b[0m \u001b[0;34m=\u001b[0m \u001b[0mself\u001b[0m\u001b[0;34m.\u001b[0m\u001b[0m_prefix_commands\u001b[0m\u001b[0;34m(\u001b[0m\u001b[0mcommand\u001b[0m\u001b[0;34m)\u001b[0m\u001b[0;34m\u001b[0m\u001b[0;34m\u001b[0m\u001b[0m\n\u001b[0;32m--> 102\u001b[0;31m         \u001b[0;32mreturn\u001b[0m \u001b[0mrunner\u001b[0m\u001b[0;34m.\u001b[0m\u001b[0mrun\u001b[0m\u001b[0;34m(\u001b[0m\u001b[0mcommand\u001b[0m\u001b[0;34m,\u001b[0m \u001b[0;34m**\u001b[0m\u001b[0mkwargs\u001b[0m\u001b[0;34m)\u001b[0m\u001b[0;34m\u001b[0m\u001b[0;34m\u001b[0m\u001b[0m\n\u001b[0m\u001b[1;32m    103\u001b[0m \u001b[0;34m\u001b[0m\u001b[0m\n\u001b[1;32m    104\u001b[0m     \u001b[0;32mdef\u001b[0m \u001b[0msudo\u001b[0m\u001b[0;34m(\u001b[0m\u001b[0mself\u001b[0m\u001b[0;34m,\u001b[0m \u001b[0mcommand\u001b[0m\u001b[0;34m,\u001b[0m \u001b[0;34m**\u001b[0m\u001b[0mkwargs\u001b[0m\u001b[0;34m)\u001b[0m\u001b[0;34m:\u001b[0m\u001b[0;34m\u001b[0m\u001b[0;34m\u001b[0m\u001b[0m\n",
      "\u001b[0;32m/opt/conda/lib/python3.9/site-packages/fabric/runners.py\u001b[0m in \u001b[0;36mrun\u001b[0;34m(self, command, **kwargs)\u001b[0m\n\u001b[1;32m     70\u001b[0m     \u001b[0;32mdef\u001b[0m \u001b[0mrun\u001b[0m\u001b[0;34m(\u001b[0m\u001b[0mself\u001b[0m\u001b[0;34m,\u001b[0m \u001b[0mcommand\u001b[0m\u001b[0;34m,\u001b[0m \u001b[0;34m**\u001b[0m\u001b[0mkwargs\u001b[0m\u001b[0;34m)\u001b[0m\u001b[0;34m:\u001b[0m\u001b[0;34m\u001b[0m\u001b[0;34m\u001b[0m\u001b[0m\n\u001b[1;32m     71\u001b[0m         \u001b[0mkwargs\u001b[0m\u001b[0;34m.\u001b[0m\u001b[0msetdefault\u001b[0m\u001b[0;34m(\u001b[0m\u001b[0;34m\"replace_env\"\u001b[0m\u001b[0;34m,\u001b[0m \u001b[0;32mTrue\u001b[0m\u001b[0;34m)\u001b[0m\u001b[0;34m\u001b[0m\u001b[0;34m\u001b[0m\u001b[0m\n\u001b[0;32m---> 72\u001b[0;31m         \u001b[0;32mreturn\u001b[0m \u001b[0msuper\u001b[0m\u001b[0;34m(\u001b[0m\u001b[0mRemote\u001b[0m\u001b[0;34m,\u001b[0m \u001b[0mself\u001b[0m\u001b[0;34m)\u001b[0m\u001b[0;34m.\u001b[0m\u001b[0mrun\u001b[0m\u001b[0;34m(\u001b[0m\u001b[0mcommand\u001b[0m\u001b[0;34m,\u001b[0m \u001b[0;34m**\u001b[0m\u001b[0mkwargs\u001b[0m\u001b[0;34m)\u001b[0m\u001b[0;34m\u001b[0m\u001b[0;34m\u001b[0m\u001b[0m\n\u001b[0m\u001b[1;32m     73\u001b[0m \u001b[0;34m\u001b[0m\u001b[0m\n\u001b[1;32m     74\u001b[0m     \u001b[0;32mdef\u001b[0m \u001b[0mread_proc_stdout\u001b[0m\u001b[0;34m(\u001b[0m\u001b[0mself\u001b[0m\u001b[0;34m,\u001b[0m \u001b[0mnum_bytes\u001b[0m\u001b[0;34m)\u001b[0m\u001b[0;34m:\u001b[0m\u001b[0;34m\u001b[0m\u001b[0;34m\u001b[0m\u001b[0m\n",
      "\u001b[0;32m/opt/conda/lib/python3.9/site-packages/invoke/runners.py\u001b[0m in \u001b[0;36mrun\u001b[0;34m(self, command, **kwargs)\u001b[0m\n\u001b[1;32m    378\u001b[0m         \"\"\"\n\u001b[1;32m    379\u001b[0m         \u001b[0;32mtry\u001b[0m\u001b[0;34m:\u001b[0m\u001b[0;34m\u001b[0m\u001b[0;34m\u001b[0m\u001b[0m\n\u001b[0;32m--> 380\u001b[0;31m             \u001b[0;32mreturn\u001b[0m \u001b[0mself\u001b[0m\u001b[0;34m.\u001b[0m\u001b[0m_run_body\u001b[0m\u001b[0;34m(\u001b[0m\u001b[0mcommand\u001b[0m\u001b[0;34m,\u001b[0m \u001b[0;34m**\u001b[0m\u001b[0mkwargs\u001b[0m\u001b[0;34m)\u001b[0m\u001b[0;34m\u001b[0m\u001b[0;34m\u001b[0m\u001b[0m\n\u001b[0m\u001b[1;32m    381\u001b[0m         \u001b[0;32mfinally\u001b[0m\u001b[0;34m:\u001b[0m\u001b[0;34m\u001b[0m\u001b[0;34m\u001b[0m\u001b[0m\n\u001b[1;32m    382\u001b[0m             \u001b[0;32mif\u001b[0m \u001b[0;32mnot\u001b[0m \u001b[0;34m(\u001b[0m\u001b[0mself\u001b[0m\u001b[0;34m.\u001b[0m\u001b[0m_asynchronous\u001b[0m \u001b[0;32mor\u001b[0m \u001b[0mself\u001b[0m\u001b[0;34m.\u001b[0m\u001b[0m_disowned\u001b[0m\u001b[0;34m)\u001b[0m\u001b[0;34m:\u001b[0m\u001b[0;34m\u001b[0m\u001b[0;34m\u001b[0m\u001b[0m\n",
      "\u001b[0;32m/opt/conda/lib/python3.9/site-packages/invoke/runners.py\u001b[0m in \u001b[0;36m_run_body\u001b[0;34m(self, command, **kwargs)\u001b[0m\n\u001b[1;32m    440\u001b[0m             \u001b[0mthread\u001b[0m\u001b[0;34m.\u001b[0m\u001b[0mstart\u001b[0m\u001b[0;34m(\u001b[0m\u001b[0;34m)\u001b[0m\u001b[0;34m\u001b[0m\u001b[0;34m\u001b[0m\u001b[0m\n\u001b[1;32m    441\u001b[0m         \u001b[0;31m# Wrap up or promise that we will, depending\u001b[0m\u001b[0;34m\u001b[0m\u001b[0;34m\u001b[0m\u001b[0m\n\u001b[0;32m--> 442\u001b[0;31m         \u001b[0;32mreturn\u001b[0m \u001b[0mself\u001b[0m\u001b[0;34m.\u001b[0m\u001b[0mmake_promise\u001b[0m\u001b[0;34m(\u001b[0m\u001b[0;34m)\u001b[0m \u001b[0;32mif\u001b[0m \u001b[0mself\u001b[0m\u001b[0;34m.\u001b[0m\u001b[0m_asynchronous\u001b[0m \u001b[0;32melse\u001b[0m \u001b[0mself\u001b[0m\u001b[0;34m.\u001b[0m\u001b[0m_finish\u001b[0m\u001b[0;34m(\u001b[0m\u001b[0;34m)\u001b[0m\u001b[0;34m\u001b[0m\u001b[0;34m\u001b[0m\u001b[0m\n\u001b[0m\u001b[1;32m    443\u001b[0m \u001b[0;34m\u001b[0m\u001b[0m\n\u001b[1;32m    444\u001b[0m     \u001b[0;32mdef\u001b[0m \u001b[0mmake_promise\u001b[0m\u001b[0;34m(\u001b[0m\u001b[0mself\u001b[0m\u001b[0;34m)\u001b[0m\u001b[0;34m:\u001b[0m\u001b[0;34m\u001b[0m\u001b[0;34m\u001b[0m\u001b[0m\n",
      "\u001b[0;32m/opt/conda/lib/python3.9/site-packages/invoke/runners.py\u001b[0m in \u001b[0;36m_finish\u001b[0;34m(self)\u001b[0m\n\u001b[1;32m    507\u001b[0m             \u001b[0;32mraise\u001b[0m \u001b[0mCommandTimedOut\u001b[0m\u001b[0;34m(\u001b[0m\u001b[0mresult\u001b[0m\u001b[0;34m,\u001b[0m \u001b[0mtimeout\u001b[0m\u001b[0;34m=\u001b[0m\u001b[0mtimeout\u001b[0m\u001b[0;34m)\u001b[0m\u001b[0;34m\u001b[0m\u001b[0;34m\u001b[0m\u001b[0m\n\u001b[1;32m    508\u001b[0m         \u001b[0;32mif\u001b[0m \u001b[0;32mnot\u001b[0m \u001b[0;34m(\u001b[0m\u001b[0mresult\u001b[0m \u001b[0;32mor\u001b[0m \u001b[0mself\u001b[0m\u001b[0;34m.\u001b[0m\u001b[0mopts\u001b[0m\u001b[0;34m[\u001b[0m\u001b[0;34m\"warn\"\u001b[0m\u001b[0;34m]\u001b[0m\u001b[0;34m)\u001b[0m\u001b[0;34m:\u001b[0m\u001b[0;34m\u001b[0m\u001b[0;34m\u001b[0m\u001b[0m\n\u001b[0;32m--> 509\u001b[0;31m             \u001b[0;32mraise\u001b[0m \u001b[0mUnexpectedExit\u001b[0m\u001b[0;34m(\u001b[0m\u001b[0mresult\u001b[0m\u001b[0;34m)\u001b[0m\u001b[0;34m\u001b[0m\u001b[0;34m\u001b[0m\u001b[0m\n\u001b[0m\u001b[1;32m    510\u001b[0m         \u001b[0;32mreturn\u001b[0m \u001b[0mresult\u001b[0m\u001b[0;34m\u001b[0m\u001b[0;34m\u001b[0m\u001b[0m\n\u001b[1;32m    511\u001b[0m \u001b[0;34m\u001b[0m\u001b[0m\n",
      "\u001b[0;31mUnexpectedExit\u001b[0m: Encountered a bad command exit code!\n\nCommand: 'killall iperf3'\n\nExit code: 1\n\nStdout: already printed\n\nStderr: already printed\n\n"
     ]
    }
   ],
   "source": [
    "c1_remote.run(\"killall iperf3\")"
   ]
  },
  {
   "cell_type": "code",
   "execution_count": 194,
   "id": "ab6a2cd8-57bf-4dbd-9790-5ceecdc90768",
   "metadata": {},
   "outputs": [
    {
     "name": "stdout",
     "output_type": "stream",
     "text": [
      "1: lo: <LOOPBACK,UP,LOWER_UP> mtu 65536 qdisc noqueue state UNKNOWN group default qlen 1000\n",
      "    link/loopback 00:00:00:00:00:00 brd 00:00:00:00:00:00\n",
      "    inet 127.0.0.1/8 scope host lo\n",
      "       valid_lft forever preferred_lft forever\n",
      "    inet6 ::1/128 scope host \n",
      "       valid_lft forever preferred_lft forever\n",
      "2: eno1: <BROADCAST,MULTICAST,UP,LOWER_UP> mtu 1500 qdisc mq state UP group default qlen 1000\n",
      "    link/ether 44:a8:42:26:64:99 brd ff:ff:ff:ff:ff:ff\n",
      "    inet 192.168.8.192/24 brd 192.168.8.255 scope global dynamic eno1\n",
      "       valid_lft 83702sec preferred_lft 83702sec\n",
      "    inet6 fe80::46a8:42ff:fe26:6499/64 scope link \n",
      "       valid_lft forever preferred_lft forever\n",
      "3: eno2: <BROADCAST,MULTICAST,UP,LOWER_UP> mtu 1500 qdisc mq state UP group default qlen 1000\n",
      "    link/ether 44:a8:42:26:64:9b brd ff:ff:ff:ff:ff:ff\n",
      "    inet6 fe80::46a8:42ff:fe26:649b/64 scope link \n",
      "       valid_lft forever preferred_lft forever\n",
      "4: eno3: <NO-CARRIER,BROADCAST,MULTICAST,UP> mtu 1500 qdisc mq state DOWN group default qlen 1000\n",
      "    link/ether 44:a8:42:26:64:9d brd ff:ff:ff:ff:ff:ff\n",
      "5: eno4: <NO-CARRIER,BROADCAST,MULTICAST,UP> mtu 1500 qdisc mq state DOWN group default qlen 1000\n",
      "    link/ether 44:a8:42:26:64:9f brd ff:ff:ff:ff:ff:ff\n"
     ]
    },
    {
     "data": {
      "text/plain": [
       "<Result cmd='ip a' exited=0>"
      ]
     },
     "execution_count": 194,
     "metadata": {},
     "output_type": "execute_result"
    }
   ],
   "source": [
    "c1_remote.run(\"ip a\")"
   ]
  },
  {
   "cell_type": "code",
   "execution_count": 220,
   "id": "aa6027ac-40c0-4024-9b0d-8c3884f00e0d",
   "metadata": {},
   "outputs": [
    {
     "data": {
      "text/plain": [
       "<Result cmd='iperf3 -J -t 60 -i 1 -A 1 -c 192.168.8.192 -p 9898 > /tmp/perf.json' exited=0>"
      ]
     },
     "execution_count": 220,
     "metadata": {},
     "output_type": "execute_result"
    }
   ],
   "source": [
    "c2_remote.run(\"iperf3 -J -t 60 -i 1 -A 1 -c 192.168.8.192 -p 9898 > /tmp/perf.json\")"
   ]
  },
  {
   "cell_type": "code",
   "execution_count": 226,
   "id": "395fd0fd-f850-4d64-9d87-ba73d7fc02f9",
   "metadata": {},
   "outputs": [
    {
     "data": {
      "image/png": "[encoded data removed]",
      "text/plain": [
       "<Figure size 432x288 with 1 Axes>"
      ]
     },
     "metadata": {
      "needs_background": "light"
     },
     "output_type": "display_data"
    }
   ],
   "source": [
    "import json\n",
    "import matplotlib.pyplot as plt\n",
    "import sys\n",
    "import argparse\n",
    "\n",
    "\n",
    "def ema(data, window):\n",
    "    if len(data) < window + 2:\n",
    "        return None\n",
    "    alpha = 2 / float(window + 1)\n",
    "    ema = []\n",
    "    for i in range(0, window):\n",
    "        ema.append(None)\n",
    "    ema.append(data[window])\n",
    "    for i in range(window+1, len(data)):\n",
    "        ema.append(ema[i-1] + alpha*(data[i]-ema[i-1]))\n",
    "    return ema\n",
    "\n",
    "\n",
    "def chart(args, data):\n",
    "    # Setting the default values\n",
    "    expected_bandwidth = 0\n",
    "    ema_window = 9\n",
    "    if args.protocol == 'udp':\n",
    "        sum_string = 'sum'\n",
    "    else:\n",
    "        sum_string = 'sum_sent'\n",
    "    if args.ema is not None:\n",
    "        ema_window = int(args.ema)\n",
    "    if args.expectedbw is not None:\n",
    "        expected_bandwidth = int(args.expectedbw)\n",
    "\n",
    "    debit = []\n",
    "    intervals = data['intervals']\n",
    "    for i in intervals:\n",
    "        debit.append(i['sum']['bits_per_second'])\n",
    "\n",
    "    plt.plot(debit, label='Bandwitdh (per second)')\n",
    "\n",
    "    plt.axhline(data['end'][sum_string]['bits_per_second'], color='r', label='Avg bandwidth')\n",
    "    plt.axhline(expected_bandwidth * 1000000, color='g', label='Expected bandwidth')\n",
    "    plt.plot(ema(debit, ema_window), label='Bandwidth {} period moving average'.format(ema_window))\n",
    "\n",
    "    plt.title('{}, {}, {:.3}GB file'.format(data['start']['timestamp']['time'],\n",
    "                                         data['start']['test_start']['protocol'],\n",
    "                                         data['end'][sum_string]['bytes']/1000000000))\n",
    "    plt.legend()\n",
    "    if args.log:\n",
    "        plt.yscale('log')\n",
    "    else:\n",
    "        plt.yscale('linear')\n",
    "        plt.ylim(bottom=0)\n",
    "    plt.ylabel('bit/s')\n",
    "    plt.xlabel('time interval')\n",
    "    plt.savefig('a2_c1_c2_1.png')\n",
    "    plt.show()\n",
    "    \n",
    "\n",
    "\n",
    "def be_verbose(args, data):\n",
    "    print('Version 1.0 - Feb 2019')\n",
    "    print('Command arguments are {}'.format(args))\n",
    "    print('Start info : {}'.format(data['start']))\n",
    "    print('End info : {}'.format(data['end']))\n",
    "\n",
    "\n",
    "def main(argv):\n",
    "    parser = argparse.ArgumentParser(description='Simple python iperf JSON data vizualiser. Use -J option with iperf to have a JSON output.')\n",
    "    parser.add_argument('input', nargs='?', help='JSON output file from iperf')\n",
    "    parser.add_argument('-a', '--ema', help='Exponential moving average used to smooth the bandwidth. Default at 9.', type=int)\n",
    "    parser.add_argument('-e', '--expectedbw', help='Expected bandwidth to be plotted in Mb.')\n",
    "    parser.add_argument('-v', '--verbose', help='Increase output verbosity', action='store_true')\n",
    "    parser.add_argument('-l', '--log', help='Plot will be in logarithmic scale', action='store_true')\n",
    "    args = parser.parse_args(argv)\n",
    "    with open(args.input) as f:\n",
    "        data = json.load(f)\n",
    "        if args.verbose:\n",
    "            be_verbose(args, data)\n",
    "        if data['start']['test_start']['protocol'] == 'UDP':\n",
    "            args.protocol = 'udp'\n",
    "        else:\n",
    "            args.protocol = 'tcp'\n",
    "        chart(args, data)\n",
    "\n",
    "\n",
    "if __name__ == '__main__':\n",
    "    argv = sys.argv[2:]\n",
    "    argv[0] = '-l'\n",
    "    argv.append('/work/a2_c1_c2_1.json')\n",
    "    main(argv)"
   ]
  }
 ],
 "metadata": {
  "kernelspec": {
   "display_name": "Python 3 (ipykernel)",
   "language": "python",
   "name": "python3"
  },
  "language_info": {
   "codemirror_mode": {
    "name": "ipython",
    "version": 3
   },
   "file_extension": ".py",
   "mimetype": "text/x-python",
   "name": "python",
   "nbconvert_exporter": "python",
   "pygments_lexer": "ipython3",
   "version": "3.9.7"
  }
 },
 "nbformat": 4,
 "nbformat_minor": 5
}
